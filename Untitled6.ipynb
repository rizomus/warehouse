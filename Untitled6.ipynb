{
  "nbformat": 4,
  "nbformat_minor": 0,
  "metadata": {
    "colab": {
      "provenance": [],
      "authorship_tag": "ABX9TyPvJF9cE4BtywI8EQkzs8oh"
    },
    "kernelspec": {
      "name": "python3",
      "display_name": "Python 3"
    },
    "language_info": {
      "name": "python"
    }
  },
  "cells": [
    {
      "cell_type": "code",
      "execution_count": 1,
      "metadata": {
        "id": "j72ldEN1TYf1"
      },
      "outputs": [],
      "source": [
        "import numpy as np "
      ]
    },
    {
      "cell_type": "code",
      "source": [
        "X = np.array([0, 6, 18,  24,  30,  42,  48,  54,  66,  78,  90,  96, 108, 114, 126, 132]) + 1       # верхний левый угол\n",
        "Y = np.hstack([np.arange(0.750, 99, 4.5), np.arange(4, 99, 4.5)])\n",
        "Y.sort()\n",
        "\n",
        "column_names = [str(i) for i in range(X[-1]//6 + 1)]\n",
        "C = (X - 1) // 6                                                # Индексация каждого стеллажа = ряд + колонна (например \"F-12\")\n",
        "rack_column_names = [str(C[i]) for i in range(len(C))]\n",
        "row_names = [chr(i) for i in range(ord('A'), ord('W')+1)]\n",
        "\n",
        "rack_coordinates = [list(zip(X , [[y]*len(X) for y in Y][i])) for i in range(len(Y))]  # ПЕРЕПИСАТЬ ПРОЩЕ!!!\n",
        "rack_coordinates = np.array(rack_coordinates).reshape(44*16, 2)"
      ],
      "metadata": {
        "id": "_gHrKJY5UN8W"
      },
      "execution_count": 2,
      "outputs": []
    },
    {
      "cell_type": "code",
      "source": [
        "Xt = np.array([12, 36, 60, 84, 102, 120]) + 1                # координаты стеллажей для временного хранения\n",
        "Xt = [(x + 1.8, x + 3) for x in Xt]\n",
        "Xt = np.array(Xt).flatten()\n",
        "Yt = [3.75 + i * 0.8 for i in range(15)] + [100 - 3.75 - 1 - i * 0.8 for i in range(15)]\n",
        "Yt.sort()\n",
        "\n",
        "temp_rack_coordinates = [list(zip(Xt , [[y]*len(Xt) for y in Yt][i])) for i in range(len(Yt))]\n",
        "temp_rack_coordinates = np.array(temp_rack_coordinates).reshape(30*12, 2)"
      ],
      "metadata": {
        "id": "IVEqhBp4UgMF"
      },
      "execution_count": 4,
      "outputs": []
    }
  ]
}